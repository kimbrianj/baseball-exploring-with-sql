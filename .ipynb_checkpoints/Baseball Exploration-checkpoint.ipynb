{
 "cells": [
  {
   "cell_type": "markdown",
   "metadata": {},
   "source": [
    "# Exploring Baseball Data Using SQL\n",
    "\n",
    "In this notebook, we provide an environment to explore historical MLB data. "
   ]
  },
  {
   "cell_type": "markdown",
   "metadata": {},
   "source": [
    "## Connecting to the Database\n",
    "\n",
    "Just run the following cell to connect to the database."
   ]
  },
  {
   "cell_type": "code",
   "execution_count": null,
   "metadata": {},
   "outputs": [],
   "source": [
    "%defaultDatasource jdbc:sqlite:baseball.db"
   ]
  },
  {
   "cell_type": "markdown",
   "metadata": {},
   "source": [
    "## Some Sample Code\n",
    "\n",
    "Let's check out the first 10 rows of the `pitching` table."
   ]
  },
  {
   "cell_type": "code",
   "execution_count": null,
   "metadata": {},
   "outputs": [],
   "source": [
    "SELECT * \n",
    "FROM pitching \n",
    "LIMIT 10;"
   ]
  },
  {
   "cell_type": "markdown",
   "metadata": {},
   "source": [
    "We can also look at the first 10 rows of the `batting` table."
   ]
  },
  {
   "cell_type": "code",
   "execution_count": null,
   "metadata": {},
   "outputs": [],
   "source": [
    "SELECT * \n",
    "FROM batting \n",
    "LIMIT 10;"
   ]
  },
  {
   "cell_type": "markdown",
   "metadata": {},
   "source": [
    "## Using the `players` table\n",
    "\n",
    "We can use the playerid variable along with the `players` table to find the names of the players."
   ]
  },
  {
   "cell_type": "code",
   "execution_count": null,
   "metadata": {},
   "outputs": [],
   "source": [
    "SELECT b.namefirst, b.namelast, a.era, b.throws\n",
    "FROM pitching a\n",
    "LEFT JOIN players b\n",
    "ON a.playerid = b.playerid\n",
    "LIMIT 100;"
   ]
  },
  {
   "cell_type": "markdown",
   "metadata": {},
   "source": [
    "## Examples of Using SQL Queries\n",
    "\n",
    "Let's find the name of every player who has had more home runs than strikeouts in a single season."
   ]
  },
  {
   "cell_type": "code",
   "execution_count": null,
   "metadata": {},
   "outputs": [],
   "source": [
    "SELECT b.namefirst, b.namelast, a.yearid, a.hr, a.so\n",
    "FROM batting a\n",
    "LEFT JOIN players b\n",
    "ON a.playerid = b.playerid\n",
    "WHERE a.hr > a.so\n",
    "LIMIT 100;"
   ]
  },
  {
   "cell_type": "markdown",
   "metadata": {},
   "source": [
    "Looks like we might be getting a lot of people who only had a few homeruns and strikeouts, including possibly some weirdness associated with pre-1900 baseball. Let's try to limit it a little bit."
   ]
  },
  {
   "cell_type": "code",
   "execution_count": null,
   "metadata": {},
   "outputs": [],
   "source": [
    "SELECT b.namefirst, b.namelast, a.yearid, a.hr, a.so\n",
    "FROM batting a\n",
    "LEFT JOIN players b\n",
    "WHERE a.hr > a.so AND a.ab > 400 AND a.yearid > 1900\n",
    "LIMIT 100;"
   ]
  }
 ],
 "metadata": {
  "anaconda-cloud": {},
  "kernelspec": {
   "display_name": "SQL",
   "language": "SQL",
   "name": "sql"
  },
  "toc": {
   "base_numbering": 1,
   "nav_menu": {},
   "number_sections": false,
   "sideBar": false,
   "skip_h1_title": false,
   "title_cell": "Table of Contents",
   "title_sidebar": "Contents",
   "toc_cell": false,
   "toc_position": {},
   "toc_section_display": false,
   "toc_window_display": false
  }
 },
 "nbformat": 4,
 "nbformat_minor": 2
}
